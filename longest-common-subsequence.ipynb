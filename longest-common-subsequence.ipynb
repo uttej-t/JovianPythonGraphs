{
 "cells": [
  {
   "cell_type": "markdown",
   "id": "e16a08e8",
   "metadata": {
    "id": "e16a08e8"
   },
   "source": [
    "# Dynamic Programming - Longest solving subsequence\n",
    "\n",
    "_To learn how to use this template, check out the course [\"Data Structures and Algorithms in Python\"](https://jovian.ai/learn/data-structures-and-algorithms-in-python)._\n",
    "\n",
    "\n"
   ]
  },
  {
   "cell_type": "markdown",
   "id": "b4977af1",
   "metadata": {
    "id": "b4977af1"
   },
   "source": [
    "## How to run the code and save your work\n",
    "\n",
    "The recommended way to run this notebook is to click the \"Run\" button at the top of this page, and select \"Run on Binder\". This will run the notebook on [mybinder.org](https://mybinder.org), a free online service for running Jupyter notebooks. \n",
    "\n",
    "This tutorial is an executable [Jupyter notebook](https://jupyter.org). You can _run_ this tutorial and experiment with the code examples in a couple of ways: *using free online resources* (recommended) or *on your computer*.\n",
    "\n",
    "#### Option 1: Running using free online resources (1-click, recommended)\n",
    "\n",
    "The easiest way to start executing the code is to click the **Run** button at the top of this page and select **Run on Binder**. You can also select \"Run on Colab\" or \"Run on Kaggle\", but you'll need to create an account on [Google Colab](https://colab.research.google.com) or [Kaggle](https://kaggle.com) to use these platforms.\n",
    "\n",
    "\n",
    "#### Option 2: Running on your computer locally\n",
    "\n",
    "To run the code on your computer locally, you'll need to set up [Python](https://www.python.org), download the notebook and install the required libraries. We recommend using the [Conda](https://docs.conda.io/projects/conda/en/latest/user-guide/install/) distribution of Python. Click the **Run** button at the top of this page, select the **Run Locally** option, and follow the instructions.\n",
    "\n",
    "#### Saving your work\n",
    "\n",
    "Before staring the assignment, let's save a snapshot of the assignment to your [Jovian](https://jovian.ai) profile, so that you can access it later, and continue your work."
   ]
  },
  {
   "cell_type": "code",
   "execution_count": 1,
   "id": "30418b14",
   "metadata": {
    "executionInfo": {
     "elapsed": 6,
     "status": "ok",
     "timestamp": 1646275197756,
     "user": {
      "displayName": "uttej kumar",
      "photoUrl": "https://lh3.googleusercontent.com/a-/AOh14GgICv_hMsC2sLTNgCIe5GIuOqlJTwvsOzTVzRirpg=s64",
      "userId": "14987599909502220813"
     },
     "user_tz": 300
    },
    "id": "30418b14"
   },
   "outputs": [],
   "source": [
    "project_name = 'Longest common Subsequence' # give it an appropriate name"
   ]
  },
  {
   "cell_type": "code",
   "execution_count": 2,
   "id": "e5168f22",
   "metadata": {
    "executionInfo": {
     "elapsed": 2715,
     "status": "ok",
     "timestamp": 1646275203731,
     "user": {
      "displayName": "uttej kumar",
      "photoUrl": "https://lh3.googleusercontent.com/a-/AOh14GgICv_hMsC2sLTNgCIe5GIuOqlJTwvsOzTVzRirpg=s64",
      "userId": "14987599909502220813"
     },
     "user_tz": 300
    },
    "id": "e5168f22"
   },
   "outputs": [],
   "source": [
    "!pip install jovian --upgrade --quiet"
   ]
  },
  {
   "cell_type": "code",
   "execution_count": 3,
   "id": "90ec99a6",
   "metadata": {
    "executionInfo": {
     "elapsed": 7,
     "status": "ok",
     "timestamp": 1646275206543,
     "user": {
      "displayName": "uttej kumar",
      "photoUrl": "https://lh3.googleusercontent.com/a-/AOh14GgICv_hMsC2sLTNgCIe5GIuOqlJTwvsOzTVzRirpg=s64",
      "userId": "14987599909502220813"
     },
     "user_tz": 300
    },
    "id": "90ec99a6"
   },
   "outputs": [],
   "source": [
    "import jovian"
   ]
  },
  {
   "cell_type": "code",
   "execution_count": 4,
   "id": "a2f8491d",
   "metadata": {
    "colab": {
     "base_uri": "https://localhost:8080/",
     "height": 174
    },
    "executionInfo": {
     "elapsed": 54433,
     "status": "ok",
     "timestamp": 1646275263838,
     "user": {
      "displayName": "uttej kumar",
      "photoUrl": "https://lh3.googleusercontent.com/a-/AOh14GgICv_hMsC2sLTNgCIe5GIuOqlJTwvsOzTVzRirpg=s64",
      "userId": "14987599909502220813"
     },
     "user_tz": 300
    },
    "id": "a2f8491d",
    "outputId": "5fff1163-0827-4628-e5c5-fa44f49ad1fd"
   },
   "outputs": [
    {
     "data": {
      "application/javascript": [
       "window.require && require([\"base/js/namespace\"],function(Jupyter){Jupyter.notebook.save_checkpoint()})"
      ],
      "text/plain": [
       "<IPython.core.display.Javascript object>"
      ]
     },
     "metadata": {},
     "output_type": "display_data"
    },
    {
     "name": "stdout",
     "output_type": "stream",
     "text": [
      "[jovian] Updating notebook \"uttejkumar7991/longest-common-subsequence\" on https://jovian.ai\u001b[0m\n",
      "[jovian] Committed successfully! https://jovian.ai/uttejkumar7991/longest-common-subsequence\u001b[0m\n"
     ]
    },
    {
     "data": {
      "text/plain": [
       "'https://jovian.ai/uttejkumar7991/longest-common-subsequence'"
      ]
     },
     "execution_count": 4,
     "metadata": {},
     "output_type": "execute_result"
    }
   ],
   "source": [
    "jovian.commit(project=project_name)"
   ]
  },
  {
   "cell_type": "markdown",
   "id": "036efade",
   "metadata": {
    "id": "036efade"
   },
   "source": [
    "## Longest Common Subsequence\n",
    "\n",
    "> **QUESTION 1**: Write a function to find the length of the **longest common subsequence** between two sequences. E.g. Given the strings \"serendipitous\" and \"precipitation\", the longest common subsequence is \"reipito\" and its length is 7.\n",
    ">\n",
    "> A \"sequence\" is a group of items with a deterministic ordering. Lists, tuples and ranges are some common sequence types in Python.\n",
    ">\n",
    "> A \"subsequence\" is a sequence obtained by deleting zero or more elements from another sequence. For example, \"edpt\" is a subsequence of \"serendipitous\".\n",
    "\n",
    "\n",
    "\n",
    "\n",
    "#### General case\n",
    "\n",
    "<img src=\"https://i.imgur.com/ry4Y0wS.png\" width=\"420\">\n",
    "\n",
    "#### Test cases\n",
    "\n",
    "1. General case (string)\n",
    "2. General case (list)\n",
    "3. No common subsequence\n",
    "4. One is a subsequence of the other\n",
    "5. One sequence is empty\n",
    "6. Both sequences are empty\n",
    "7. Multiple subsequences with same length\n",
    "    1. “abcdef” and “badcfe”\n",
    "\n"
   ]
  },
  {
   "cell_type": "markdown",
   "id": "b962c08d",
   "metadata": {
    "id": "b962c08d"
   },
   "source": [
    "## The Method\n",
    "\n",
    "Here's the systematic strategy we'll apply for solving problems:\n",
    "\n",
    "1. State the problem clearly. Identify the input & output formats.\n",
    "2. Come up with some example inputs & outputs. Try to cover all edge cases.\n",
    "3. Come up with a correct solution for the problem. State it in plain English.\n",
    "4. Implement the solution and test it using example inputs. Fix bugs, if any.\n",
    "5. Analyze the algorithm's complexity and identify inefficiencies, if any.\n",
    "6. Apply the right technique to overcome the inefficiency. Repeat steps 3 to 6.\n",
    "\n",
    "This approach is explained in detail in [Lesson 1](https://jovian.ai/learn/data-structures-and-algorithms-in-python/lesson/lesson-1-binary-search-linked-lists-and-complexity) of the course. Let's apply this approach step-by-step."
   ]
  },
  {
   "cell_type": "markdown",
   "id": "c6b9ab24",
   "metadata": {
    "id": "c6b9ab24"
   },
   "source": [
    "## Solution\n",
    "\n",
    "\n",
    "### 1. State the problem clearly. Identify the input & output formats.\n",
    "\n",
    "While this problem is stated clearly enough, it's always useful to try and express in your own words, in a way that makes it most clear for you. \n",
    "\n",
    "\n",
    "**Problem**\n",
    "\n",
    "> Given two sequences, the aim is to find the length of longest subsequence common in both given sequences\n",
    "\n",
    "<br/>\n",
    "\n",
    "\n",
    "**Input**\n",
    "\n",
    "1. Sequence1 : `'serendipitous'`\n",
    "2. Sequence2 : `'precipitation'`\n",
    "\n",
    "(add more if required)\n",
    "\n",
    "\n",
    "**Output**\n",
    "\n",
    "1. length : 7 , Common Subsequence: `'reipito'`\n",
    "\n",
    "\n",
    "<br/>\n",
    "\n",
    "Based on the above, we can now create a signature of our function:"
   ]
  },
  {
   "cell_type": "code",
   "execution_count": 5,
   "id": "a4433b70",
   "metadata": {
    "executionInfo": {
     "elapsed": 291,
     "status": "ok",
     "timestamp": 1646275587358,
     "user": {
      "displayName": "uttej kumar",
      "photoUrl": "https://lh3.googleusercontent.com/a-/AOh14GgICv_hMsC2sLTNgCIe5GIuOqlJTwvsOzTVzRirpg=s64",
      "userId": "14987599909502220813"
     },
     "user_tz": 300
    },
    "id": "a4433b70"
   },
   "outputs": [],
   "source": [
    "# Create a function signature here. The body of the function can contain a single statement: pass\n",
    "def len_lsq(seq1, seq2):\n",
    "  pass"
   ]
  },
  {
   "cell_type": "markdown",
   "id": "6101e617",
   "metadata": {
    "id": "6101e617"
   },
   "source": [
    "Save and upload your work before continuing."
   ]
  },
  {
   "cell_type": "code",
   "execution_count": 6,
   "id": "3ed600d8",
   "metadata": {
    "executionInfo": {
     "elapsed": 282,
     "status": "ok",
     "timestamp": 1646275589816,
     "user": {
      "displayName": "uttej kumar",
      "photoUrl": "https://lh3.googleusercontent.com/a-/AOh14GgICv_hMsC2sLTNgCIe5GIuOqlJTwvsOzTVzRirpg=s64",
      "userId": "14987599909502220813"
     },
     "user_tz": 300
    },
    "id": "3ed600d8"
   },
   "outputs": [],
   "source": [
    "import jovian"
   ]
  },
  {
   "cell_type": "code",
   "execution_count": 7,
   "id": "777a605d",
   "metadata": {
    "colab": {
     "base_uri": "https://localhost:8080/",
     "height": 87
    },
    "executionInfo": {
     "elapsed": 1746,
     "status": "ok",
     "timestamp": 1646275592701,
     "user": {
      "displayName": "uttej kumar",
      "photoUrl": "https://lh3.googleusercontent.com/a-/AOh14GgICv_hMsC2sLTNgCIe5GIuOqlJTwvsOzTVzRirpg=s64",
      "userId": "14987599909502220813"
     },
     "user_tz": 300
    },
    "id": "777a605d",
    "outputId": "e86ba796-75da-4d6a-ca44-bcd6c2b88838"
   },
   "outputs": [
    {
     "data": {
      "application/javascript": [
       "window.require && require([\"base/js/namespace\"],function(Jupyter){Jupyter.notebook.save_checkpoint()})"
      ],
      "text/plain": [
       "<IPython.core.display.Javascript object>"
      ]
     },
     "metadata": {},
     "output_type": "display_data"
    },
    {
     "name": "stdout",
     "output_type": "stream",
     "text": [
      "[jovian] Updating notebook \"uttejkumar7991/longest-common-subsequence\" on https://jovian.ai\u001b[0m\n",
      "[jovian] Committed successfully! https://jovian.ai/uttejkumar7991/longest-common-subsequence\u001b[0m\n"
     ]
    },
    {
     "data": {
      "text/plain": [
       "'https://jovian.ai/uttejkumar7991/longest-common-subsequence'"
      ]
     },
     "execution_count": 7,
     "metadata": {},
     "output_type": "execute_result"
    }
   ],
   "source": [
    "jovian.commit()"
   ]
  },
  {
   "cell_type": "markdown",
   "id": "06e71fc1",
   "metadata": {
    "id": "06e71fc1"
   },
   "source": [
    "### 2. Come up with some example inputs & outputs. Try to cover all edge cases.\n",
    "\n",
    "Our function should be able to handle any set of valid inputs we pass into it. Here's a list of some possible variations we might encounter:\n",
    "\n",
    "1. **???**\n",
    "2. **???**\n",
    "3. **???**\n",
    "4. **???**\n",
    "5. **???**\n",
    "\n",
    "(add more if required)\n",
    "\n",
    "\n",
    "We'll express our test cases as dictionaries, to test them easily. Each dictionary will contain 2 keys: `input` (a dictionary itself containing one key for each argument to the function and `output` (the expected result from the function). "
   ]
  },
  {
   "cell_type": "code",
   "execution_count": 8,
   "id": "b31133df",
   "metadata": {
    "executionInfo": {
     "elapsed": 299,
     "status": "ok",
     "timestamp": 1646275842926,
     "user": {
      "displayName": "uttej kumar",
      "photoUrl": "https://lh3.googleusercontent.com/a-/AOh14GgICv_hMsC2sLTNgCIe5GIuOqlJTwvsOzTVzRirpg=s64",
      "userId": "14987599909502220813"
     },
     "user_tz": 300
    },
    "id": "b31133df"
   },
   "outputs": [],
   "source": [
    "test = {\n",
    "    'input': { 'seq1':\"uttej\",\n",
    "              'seq2':\"auttejb\"\n",
    "        \n",
    "    },\n",
    "    'output': 5\n",
    "}"
   ]
  },
  {
   "cell_type": "markdown",
   "id": "3a2a997d",
   "metadata": {
    "id": "3a2a997d"
   },
   "source": [
    "Create one test case for each of the scenarios listed above. We'll store our test cases in an array called `tests`."
   ]
  },
  {
   "cell_type": "code",
   "execution_count": 9,
   "id": "559315d4",
   "metadata": {
    "executionInfo": {
     "elapsed": 408,
     "status": "ok",
     "timestamp": 1646275844920,
     "user": {
      "displayName": "uttej kumar",
      "photoUrl": "https://lh3.googleusercontent.com/a-/AOh14GgICv_hMsC2sLTNgCIe5GIuOqlJTwvsOzTVzRirpg=s64",
      "userId": "14987599909502220813"
     },
     "user_tz": 300
    },
    "id": "559315d4"
   },
   "outputs": [],
   "source": [
    "tests = []"
   ]
  },
  {
   "cell_type": "code",
   "execution_count": 10,
   "id": "9c4b7dd3",
   "metadata": {
    "executionInfo": {
     "elapsed": 6,
     "status": "ok",
     "timestamp": 1646275845236,
     "user": {
      "displayName": "uttej kumar",
      "photoUrl": "https://lh3.googleusercontent.com/a-/AOh14GgICv_hMsC2sLTNgCIe5GIuOqlJTwvsOzTVzRirpg=s64",
      "userId": "14987599909502220813"
     },
     "user_tz": 300
    },
    "id": "9c4b7dd3"
   },
   "outputs": [],
   "source": [
    "tests.append(test)"
   ]
  },
  {
   "cell_type": "code",
   "execution_count": 11,
   "id": "3a5e0d09",
   "metadata": {
    "executionInfo": {
     "elapsed": 4,
     "status": "ok",
     "timestamp": 1646275932984,
     "user": {
      "displayName": "uttej kumar",
      "photoUrl": "https://lh3.googleusercontent.com/a-/AOh14GgICv_hMsC2sLTNgCIe5GIuOqlJTwvsOzTVzRirpg=s64",
      "userId": "14987599909502220813"
     },
     "user_tz": 300
    },
    "id": "3a5e0d09"
   },
   "outputs": [],
   "source": [
    "tests.append({\n",
    "    'input': { 'seq1':\"\",\n",
    "              'seq2':\"\"\n",
    "    },\n",
    "    'output': 0\n",
    "})"
   ]
  },
  {
   "cell_type": "code",
   "execution_count": 12,
   "id": "52eaba0c",
   "metadata": {
    "executionInfo": {
     "elapsed": 5,
     "status": "ok",
     "timestamp": 1646275933269,
     "user": {
      "displayName": "uttej kumar",
      "photoUrl": "https://lh3.googleusercontent.com/a-/AOh14GgICv_hMsC2sLTNgCIe5GIuOqlJTwvsOzTVzRirpg=s64",
      "userId": "14987599909502220813"
     },
     "user_tz": 300
    },
    "id": "52eaba0c"
   },
   "outputs": [],
   "source": [
    "# add more test cases"
   ]
  },
  {
   "cell_type": "code",
   "execution_count": 13,
   "id": "ebe20825",
   "metadata": {
    "executionInfo": {
     "elapsed": 5,
     "status": "ok",
     "timestamp": 1646275933601,
     "user": {
      "displayName": "uttej kumar",
      "photoUrl": "https://lh3.googleusercontent.com/a-/AOh14GgICv_hMsC2sLTNgCIe5GIuOqlJTwvsOzTVzRirpg=s64",
      "userId": "14987599909502220813"
     },
     "user_tz": 300
    },
    "id": "ebe20825"
   },
   "outputs": [],
   "source": [
    "T0 = {\n",
    "    'input': {\n",
    "        'seq1': 'serendipitous',\n",
    "        'seq2': 'precipitation'\n",
    "    },\n",
    "    'output': 7\n",
    "}\n",
    "\n",
    "T1 = {\n",
    "    'input': {\n",
    "        'seq1': [1, 3, 5, 6, 7, 2, 5, 2, 3],\n",
    "        'seq2': [6, 2, 4, 7, 1, 5, 6, 2, 3]\n",
    "    },\n",
    "    'output': 5\n",
    "}\n",
    "\n",
    "T2 = {\n",
    "    'input': {\n",
    "        'seq1': 'longest',\n",
    "        'seq2': 'stone'\n",
    "    },\n",
    "    'output': 3\n",
    "}\n",
    "\n",
    "T3 = {\n",
    "    'input': {\n",
    "        'seq1': 'asdfwevad',\n",
    "        'seq2': 'opkpoiklklj'\n",
    "    },\n",
    "    'output': 0\n",
    "}\n",
    "\n",
    "T4 = {\n",
    "    'input': {\n",
    "        'seq1': 'dense',\n",
    "        'seq2': 'condensed'\n",
    "    },\n",
    "    'output': 5\n",
    "}\n",
    "\n",
    "T5 = {\n",
    "    'input': {\n",
    "        'seq1': '',\n",
    "        'seq2': 'opkpoiklklj'\n",
    "    },\n",
    "    'output': 0\n",
    "}\n",
    "\n",
    "T6 = {\n",
    "    'input': {\n",
    "        'seq1': '',\n",
    "        'seq2': ''\n",
    "    },\n",
    "    'output': 0\n",
    "}\n",
    "\n",
    "T7 = {\n",
    "    'input': {\n",
    "        'seq1': 'abcdef',\n",
    "        'seq2': 'badcfe'\n",
    "    },\n",
    "    'output': 3\n",
    "}"
   ]
  },
  {
   "cell_type": "code",
   "execution_count": 14,
   "id": "RYjocT4nrj8s",
   "metadata": {
    "executionInfo": {
     "elapsed": 6,
     "status": "ok",
     "timestamp": 1646275934884,
     "user": {
      "displayName": "uttej kumar",
      "photoUrl": "https://lh3.googleusercontent.com/a-/AOh14GgICv_hMsC2sLTNgCIe5GIuOqlJTwvsOzTVzRirpg=s64",
      "userId": "14987599909502220813"
     },
     "user_tz": 300
    },
    "id": "RYjocT4nrj8s"
   },
   "outputs": [],
   "source": [
    "lcq_tests = [T0, T1, T2, T3, T4, T5, T6, T7]"
   ]
  },
  {
   "cell_type": "markdown",
   "id": "e1b3d711",
   "metadata": {
    "id": "e1b3d711"
   },
   "source": [
    "### 3. Come up with a correct solution for the problem. State it in plain English.\n",
    "\n",
    "Our first goal should always be to come up with a _correct_ solution to the problem, which may not necessarily be the most _efficient_ solution. Come with a correct solution and explain it in simple words below:\n",
    "\n",
    "#### Recursive Solution\n",
    "\n",
    "\n",
    "1. Create two counters `idx1` and `idx2` starting at 0. Our recursive function will compute the LCS of `seq1[idx1:]` and `seq2[idx2:]`\n",
    "\n",
    "\n",
    "2. If `seq1[idx1]` and `seq2[idx2]` are equal, then this character belongs to the LCS of `seq1[idx1:]` and `seq2[idx2:]` (why?). Further the length this is LCS is one more than LCS of `seq1[idx1+1:]` and  `seq2[idx2+1:]`\n",
    "\n",
    "<img src=\"https://i.imgur.com/um7LDiX.png\" width=\"400\">\n",
    "\n",
    "3. If not, then the LCS of `seq1[idx1:]` and `seq2[idx2:]` is the longer one among the LCS of `seq1[idx1+1:], seq2[idx2:]` and the LCS of `seq1[idx1:]`, `seq2[idx2+1:]`\n",
    "\n",
    "<img src=\"https://i.imgur.com/DRanmOy.png\" width=\"360\">\n",
    "\n",
    "5. If either `seq1[idx1:]` or `seq2[idx2:]` is empty, then their LCS is empty.\n",
    "\n",
    "\n",
    "\n",
    "Here's what the tree of recursive calls looks like:\n",
    "\n",
    "\n",
    "![](https://i.imgur.com/JJrq3KH.png)\n",
    "\n",
    "\n",
    "\n",
    "\n",
    "\n",
    "(add more steps if required)\n",
    "\n",
    "\n",
    "Let's save and upload our work before continuing.\n",
    "\n",
    "\n"
   ]
  },
  {
   "cell_type": "code",
   "execution_count": 15,
   "id": "38e71176",
   "metadata": {
    "colab": {
     "base_uri": "https://localhost:8080/",
     "height": 87
    },
    "executionInfo": {
     "elapsed": 2262,
     "status": "ok",
     "timestamp": 1646276364822,
     "user": {
      "displayName": "uttej kumar",
      "photoUrl": "https://lh3.googleusercontent.com/a-/AOh14GgICv_hMsC2sLTNgCIe5GIuOqlJTwvsOzTVzRirpg=s64",
      "userId": "14987599909502220813"
     },
     "user_tz": 300
    },
    "id": "38e71176",
    "outputId": "1186fc5e-20d6-4bec-ebde-2d1c801b86a9"
   },
   "outputs": [
    {
     "data": {
      "application/javascript": [
       "window.require && require([\"base/js/namespace\"],function(Jupyter){Jupyter.notebook.save_checkpoint()})"
      ],
      "text/plain": [
       "<IPython.core.display.Javascript object>"
      ]
     },
     "metadata": {},
     "output_type": "display_data"
    },
    {
     "name": "stdout",
     "output_type": "stream",
     "text": [
      "[jovian] Updating notebook \"uttejkumar7991/longest-common-subsequence\" on https://jovian.ai\u001b[0m\n",
      "[jovian] Committed successfully! https://jovian.ai/uttejkumar7991/longest-common-subsequence\u001b[0m\n"
     ]
    },
    {
     "data": {
      "text/plain": [
       "'https://jovian.ai/uttejkumar7991/longest-common-subsequence'"
      ]
     },
     "execution_count": 15,
     "metadata": {},
     "output_type": "execute_result"
    }
   ],
   "source": [
    "jovian.commit()"
   ]
  },
  {
   "cell_type": "markdown",
   "id": "256dd8b8",
   "metadata": {
    "id": "256dd8b8"
   },
   "source": [
    "###  4. Implement the solution and test it using example inputs. Fix bugs, if any."
   ]
  },
  {
   "cell_type": "code",
   "execution_count": 16,
   "id": "ed54f2ef",
   "metadata": {
    "executionInfo": {
     "elapsed": 336,
     "status": "ok",
     "timestamp": 1646279827859,
     "user": {
      "displayName": "uttej kumar",
      "photoUrl": "https://lh3.googleusercontent.com/a-/AOh14GgICv_hMsC2sLTNgCIe5GIuOqlJTwvsOzTVzRirpg=s64",
      "userId": "14987599909502220813"
     },
     "user_tz": 300
    },
    "id": "ed54f2ef"
   },
   "outputs": [],
   "source": [
    "def lcs_len(seq1,seq2, l1 = 0 , l2 = 0):\n",
    "    if l1 == len(seq1) or l2 == len(seq2):\n",
    "        return 0\n",
    "    elif seq1[l1] == seq2[l2]:\n",
    "        #since the first character match we add 1 in front\n",
    "        return 1 + lcs_len(seq1, seq2, l1+1, l2+1) \n",
    "    else:\n",
    "        # the first char does not match and hence \n",
    "        opt1 = lcs_len(seq1, seq2, l1+1, l2)\n",
    "        opt2 = lcs_len(seq1, seq2, l1, l2+1)\n",
    "    return max(opt1,opt2)\n",
    "\n",
    "\n",
    "  # return 1+"
   ]
  },
  {
   "cell_type": "code",
   "execution_count": 17,
   "id": "957b45a7",
   "metadata": {
    "colab": {
     "base_uri": "https://localhost:8080/",
     "height": 305
    },
    "executionInfo": {
     "elapsed": 7,
     "status": "error",
     "timestamp": 1646279828884,
     "user": {
      "displayName": "uttej kumar",
      "photoUrl": "https://lh3.googleusercontent.com/a-/AOh14GgICv_hMsC2sLTNgCIe5GIuOqlJTwvsOzTVzRirpg=s64",
      "userId": "14987599909502220813"
     },
     "user_tz": 300
    },
    "id": "957b45a7",
    "outputId": "91e4084c-e7a6-4ba8-831e-17f5af2a8480"
   },
   "outputs": [
    {
     "data": {
      "text/plain": [
       "5"
      ]
     },
     "execution_count": 17,
     "metadata": {},
     "output_type": "execute_result"
    }
   ],
   "source": [
    "ans=lcs_len('uttej','auttejb')\n",
    "ans"
   ]
  },
  {
   "cell_type": "code",
   "execution_count": 18,
   "id": "5594a403",
   "metadata": {
    "colab": {
     "base_uri": "https://localhost:8080/"
    },
    "executionInfo": {
     "elapsed": 300,
     "status": "ok",
     "timestamp": 1646279687023,
     "user": {
      "displayName": "uttej kumar",
      "photoUrl": "https://lh3.googleusercontent.com/a-/AOh14GgICv_hMsC2sLTNgCIe5GIuOqlJTwvsOzTVzRirpg=s64",
      "userId": "14987599909502220813"
     },
     "user_tz": 300
    },
    "id": "5594a403",
    "outputId": "da9e10e7-9f8b-4d52-8486-4893da48663a"
   },
   "outputs": [
    {
     "data": {
      "text/plain": [
       "{'input': {'seq1': 'serendipitous', 'seq2': 'precipitation'}, 'output': 7}"
      ]
     },
     "execution_count": 18,
     "metadata": {},
     "output_type": "execute_result"
    }
   ],
   "source": [
    "T0"
   ]
  },
  {
   "cell_type": "code",
   "execution_count": 19,
   "id": "4cfd95ad",
   "metadata": {
    "colab": {
     "base_uri": "https://localhost:8080/"
    },
    "executionInfo": {
     "elapsed": 11,
     "status": "ok",
     "timestamp": 1646279688237,
     "user": {
      "displayName": "uttej kumar",
      "photoUrl": "https://lh3.googleusercontent.com/a-/AOh14GgICv_hMsC2sLTNgCIe5GIuOqlJTwvsOzTVzRirpg=s64",
      "userId": "14987599909502220813"
     },
     "user_tz": 300
    },
    "id": "4cfd95ad",
    "outputId": "e84bfa10-94e3-41aa-9ac8-6a58b2bf12f0"
   },
   "outputs": [
    {
     "data": {
      "text/plain": [
       "7"
      ]
     },
     "execution_count": 19,
     "metadata": {},
     "output_type": "execute_result"
    }
   ],
   "source": [
    "lcs_len(T0['input']['seq1'], T0['input']['seq2'])"
   ]
  },
  {
   "cell_type": "code",
   "execution_count": null,
   "id": "jg139cBC7c9s",
   "metadata": {
    "id": "jg139cBC7c9s"
   },
   "outputs": [],
   "source": []
  },
  {
   "cell_type": "markdown",
   "id": "ffe3db69",
   "metadata": {
    "id": "ffe3db69"
   },
   "source": [
    "We can test the function by passing the input to it directly or by using the `evaluate_test_case` function from `jovian`."
   ]
  },
  {
   "cell_type": "code",
   "execution_count": 20,
   "id": "d385eca2",
   "metadata": {
    "id": "d385eca2"
   },
   "outputs": [],
   "source": [
    "from jovian.pythondsa import evaluate_test_case"
   ]
  },
  {
   "cell_type": "markdown",
   "id": "3ddd04a2",
   "metadata": {
    "id": "3ddd04a2"
   },
   "source": [
    "Evaluate your function against all the test cases together using the `evaluate_test_cases` (plural) function from `jovian`."
   ]
  },
  {
   "cell_type": "code",
   "execution_count": 21,
   "id": "3ccfc58c",
   "metadata": {
    "id": "3ccfc58c"
   },
   "outputs": [],
   "source": [
    "from jovian.pythondsa import evaluate_test_cases"
   ]
  },
  {
   "cell_type": "code",
   "execution_count": 22,
   "id": "45cd36b1",
   "metadata": {
    "id": "45cd36b1"
   },
   "outputs": [
    {
     "name": "stdout",
     "output_type": "stream",
     "text": [
      "\n",
      "\u001b[1mTEST CASE #0\u001b[0m\n",
      "\n",
      "Input:\n",
      "{'seq1': 'serendipitous', 'seq2': 'precipitation'}\n",
      "\n",
      "Expected Output:\n",
      "7\n",
      "\n",
      "\n",
      "Actual Output:\n",
      "7\n",
      "\n",
      "Execution Time:\n",
      "253.036 ms\n",
      "\n",
      "Test Result:\n",
      "\u001b[92mPASSED\u001b[0m\n",
      "\n",
      "\n",
      "\u001b[1mTEST CASE #1\u001b[0m\n",
      "\n",
      "Input:\n",
      "{'seq1': [1, 3, 5, 6, 7, 2, 5, 2, 3], 'seq2': [6, 2, 4, 7, 1, 5, 6, 2, 3]}\n",
      "\n",
      "Expected Output:\n",
      "5\n",
      "\n",
      "\n",
      "Actual Output:\n",
      "5\n",
      "\n",
      "Execution Time:\n",
      "4.011 ms\n",
      "\n",
      "Test Result:\n",
      "\u001b[92mPASSED\u001b[0m\n",
      "\n",
      "\n",
      "\u001b[1mTEST CASE #2\u001b[0m\n",
      "\n",
      "Input:\n",
      "{'seq1': 'longest', 'seq2': 'stone'}\n",
      "\n",
      "Expected Output:\n",
      "3\n",
      "\n",
      "\n",
      "Actual Output:\n",
      "3\n",
      "\n",
      "Execution Time:\n",
      "0.166 ms\n",
      "\n",
      "Test Result:\n",
      "\u001b[92mPASSED\u001b[0m\n",
      "\n",
      "\n",
      "\u001b[1mTEST CASE #3\u001b[0m\n",
      "\n",
      "Input:\n",
      "{'seq1': 'asdfwevad', 'seq2': 'opkpoiklklj'}\n",
      "\n",
      "Expected Output:\n",
      "0\n",
      "\n",
      "\n",
      "Actual Output:\n",
      "0\n",
      "\n",
      "Execution Time:\n",
      "74.043 ms\n",
      "\n",
      "Test Result:\n",
      "\u001b[92mPASSED\u001b[0m\n",
      "\n",
      "\n",
      "\u001b[1mTEST CASE #4\u001b[0m\n",
      "\n",
      "Input:\n",
      "{'seq1': 'dense', 'seq2': 'condensed'}\n",
      "\n",
      "Expected Output:\n",
      "5\n",
      "\n",
      "\n",
      "Actual Output:\n",
      "5\n",
      "\n",
      "Execution Time:\n",
      "0.094 ms\n",
      "\n",
      "Test Result:\n",
      "\u001b[92mPASSED\u001b[0m\n",
      "\n",
      "\n",
      "\u001b[1mTEST CASE #5\u001b[0m\n",
      "\n",
      "Input:\n",
      "{'seq1': '', 'seq2': 'opkpoiklklj'}\n",
      "\n",
      "Expected Output:\n",
      "0\n",
      "\n",
      "\n",
      "Actual Output:\n",
      "0\n",
      "\n",
      "Execution Time:\n",
      "0.002 ms\n",
      "\n",
      "Test Result:\n",
      "\u001b[92mPASSED\u001b[0m\n",
      "\n",
      "\n",
      "\u001b[1mTEST CASE #6\u001b[0m\n",
      "\n",
      "Input:\n",
      "{'seq1': '', 'seq2': ''}\n",
      "\n",
      "Expected Output:\n",
      "0\n",
      "\n",
      "\n",
      "Actual Output:\n",
      "0\n",
      "\n",
      "Execution Time:\n",
      "0.002 ms\n",
      "\n",
      "Test Result:\n",
      "\u001b[92mPASSED\u001b[0m\n",
      "\n",
      "\n",
      "\u001b[1mTEST CASE #7\u001b[0m\n",
      "\n",
      "Input:\n",
      "{'seq1': 'abcdef', 'seq2': 'badcfe'}\n",
      "\n",
      "Expected Output:\n",
      "3\n",
      "\n",
      "\n",
      "Actual Output:\n",
      "3\n",
      "\n",
      "Execution Time:\n",
      "0.033 ms\n",
      "\n",
      "Test Result:\n",
      "\u001b[92mPASSED\u001b[0m\n",
      "\n",
      "\n",
      "\u001b[1mSUMMARY\u001b[0m\n",
      "\n",
      "TOTAL: 8, \u001b[92mPASSED\u001b[0m: 8, \u001b[91mFAILED\u001b[0m: 0\n"
     ]
    },
    {
     "data": {
      "text/plain": [
       "[(7, True, 253.036),\n",
       " (5, True, 4.011),\n",
       " (3, True, 0.166),\n",
       " (0, True, 74.043),\n",
       " (5, True, 0.094),\n",
       " (0, True, 0.002),\n",
       " (0, True, 0.002),\n",
       " (3, True, 0.033)]"
      ]
     },
     "execution_count": 22,
     "metadata": {},
     "output_type": "execute_result"
    }
   ],
   "source": [
    "evaluate_test_cases(lcs_len, lcq_tests)"
   ]
  },
  {
   "cell_type": "markdown",
   "id": "02793b84",
   "metadata": {
    "id": "02793b84"
   },
   "source": [
    "Verify that all the test cases were evaluated. We expect them all to fail, since we haven't implemented the function yet.\n",
    "\n",
    "Let's save our work before continuing."
   ]
  },
  {
   "cell_type": "code",
   "execution_count": 23,
   "id": "d21d9551",
   "metadata": {
    "id": "d21d9551",
    "outputId": "e976abe2-538d-4336-969d-133f15703c60"
   },
   "outputs": [
    {
     "data": {
      "application/javascript": [
       "window.require && require([\"base/js/namespace\"],function(Jupyter){Jupyter.notebook.save_checkpoint()})"
      ],
      "text/plain": [
       "<IPython.core.display.Javascript object>"
      ]
     },
     "metadata": {},
     "output_type": "display_data"
    },
    {
     "name": "stdout",
     "output_type": "stream",
     "text": [
      "[jovian] Updating notebook \"uttejkumar7991/longest-common-subsequence\" on https://jovian.ai\u001b[0m\n",
      "[jovian] Committed successfully! https://jovian.ai/uttejkumar7991/longest-common-subsequence\u001b[0m\n"
     ]
    },
    {
     "data": {
      "text/plain": [
       "'https://jovian.ai/uttejkumar7991/longest-common-subsequence'"
      ]
     },
     "execution_count": 23,
     "metadata": {},
     "output_type": "execute_result"
    }
   ],
   "source": [
    "jovian.commit()"
   ]
  },
  {
   "cell_type": "code",
   "execution_count": null,
   "id": "72c85319",
   "metadata": {
    "id": "72c85319"
   },
   "outputs": [],
   "source": []
  },
  {
   "cell_type": "markdown",
   "id": "5b7eef23",
   "metadata": {
    "id": "5b7eef23"
   },
   "source": [
    "### 5. Analyze the algorithm's complexity and identify inefficiencies, if any.\n",
    "\n",
    "Based on the above can you infer that the time complexity is $O(2^{m+n})$.\n"
   ]
  },
  {
   "cell_type": "code",
   "execution_count": 24,
   "id": "42858d7a",
   "metadata": {
    "id": "42858d7a"
   },
   "outputs": [],
   "source": [
    "def lcs_memon(seq1, seq2):\n",
    "    memo = {}\n",
    "    def recurse(idx1, idx2):\n",
    "        key = (idx1, idx2)\n",
    "        if key in memo:\n",
    "            return memo[key]\n",
    "        elif idx1 == len(seq1) or idx2 == len(seq2):\n",
    "            memo[key] = 0\n",
    "        elif seq1[idx1] == seq2[idx2]:\n",
    "            memo[key] = 1 + recurse(idx1+1, idx2+1)\n",
    "        else:\n",
    "            memo[key] = max(recurse(idx1+1, idx2), recurse(idx1, idx2+1))\n",
    "        return memo[key]\n",
    "    return recurse(0,0)"
   ]
  },
  {
   "cell_type": "code",
   "execution_count": 25,
   "id": "e1748c38",
   "metadata": {
    "id": "e1748c38"
   },
   "outputs": [
    {
     "name": "stdout",
     "output_type": "stream",
     "text": [
      "\n",
      "\u001b[1mTEST CASE #0\u001b[0m\n",
      "\n",
      "Input:\n",
      "{'seq1': 'serendipitous', 'seq2': 'precipitation'}\n",
      "\n",
      "Expected Output:\n",
      "7\n",
      "\n",
      "\n",
      "Actual Output:\n",
      "7\n",
      "\n",
      "Execution Time:\n",
      "0.144 ms\n",
      "\n",
      "Test Result:\n",
      "\u001b[92mPASSED\u001b[0m\n",
      "\n",
      "\n",
      "\u001b[1mTEST CASE #1\u001b[0m\n",
      "\n",
      "Input:\n",
      "{'seq1': [1, 3, 5, 6, 7, 2, 5, 2, 3], 'seq2': [6, 2, 4, 7, 1, 5, 6, 2, 3]}\n",
      "\n",
      "Expected Output:\n",
      "5\n",
      "\n",
      "\n",
      "Actual Output:\n",
      "5\n",
      "\n",
      "Execution Time:\n",
      "0.079 ms\n",
      "\n",
      "Test Result:\n",
      "\u001b[92mPASSED\u001b[0m\n",
      "\n",
      "\n",
      "\u001b[1mTEST CASE #2\u001b[0m\n",
      "\n",
      "Input:\n",
      "{'seq1': 'longest', 'seq2': 'stone'}\n",
      "\n",
      "Expected Output:\n",
      "3\n",
      "\n",
      "\n",
      "Actual Output:\n",
      "3\n",
      "\n",
      "Execution Time:\n",
      "0.054 ms\n",
      "\n",
      "Test Result:\n",
      "\u001b[92mPASSED\u001b[0m\n",
      "\n",
      "\n",
      "\u001b[1mTEST CASE #3\u001b[0m\n",
      "\n",
      "Input:\n",
      "{'seq1': 'asdfwevad', 'seq2': 'opkpoiklklj'}\n",
      "\n",
      "Expected Output:\n",
      "0\n",
      "\n",
      "\n",
      "Actual Output:\n",
      "0\n",
      "\n",
      "Execution Time:\n",
      "0.115 ms\n",
      "\n",
      "Test Result:\n",
      "\u001b[92mPASSED\u001b[0m\n",
      "\n",
      "\n",
      "\u001b[1mTEST CASE #4\u001b[0m\n",
      "\n",
      "Input:\n",
      "{'seq1': 'dense', 'seq2': 'condensed'}\n",
      "\n",
      "Expected Output:\n",
      "5\n",
      "\n",
      "\n",
      "Actual Output:\n",
      "5\n",
      "\n",
      "Execution Time:\n",
      "0.053 ms\n",
      "\n",
      "Test Result:\n",
      "\u001b[92mPASSED\u001b[0m\n",
      "\n",
      "\n",
      "\u001b[1mTEST CASE #5\u001b[0m\n",
      "\n",
      "Input:\n",
      "{'seq1': '', 'seq2': 'opkpoiklklj'}\n",
      "\n",
      "Expected Output:\n",
      "0\n",
      "\n",
      "\n",
      "Actual Output:\n",
      "0\n",
      "\n",
      "Execution Time:\n",
      "0.005 ms\n",
      "\n",
      "Test Result:\n",
      "\u001b[92mPASSED\u001b[0m\n",
      "\n",
      "\n",
      "\u001b[1mTEST CASE #6\u001b[0m\n",
      "\n",
      "Input:\n",
      "{'seq1': '', 'seq2': ''}\n",
      "\n",
      "Expected Output:\n",
      "0\n",
      "\n",
      "\n",
      "Actual Output:\n",
      "0\n",
      "\n",
      "Execution Time:\n",
      "0.003 ms\n",
      "\n",
      "Test Result:\n",
      "\u001b[92mPASSED\u001b[0m\n",
      "\n",
      "\n",
      "\u001b[1mTEST CASE #7\u001b[0m\n",
      "\n",
      "Input:\n",
      "{'seq1': 'abcdef', 'seq2': 'badcfe'}\n",
      "\n",
      "Expected Output:\n",
      "3\n",
      "\n",
      "\n",
      "Actual Output:\n",
      "3\n",
      "\n",
      "Execution Time:\n",
      "0.041 ms\n",
      "\n",
      "Test Result:\n",
      "\u001b[92mPASSED\u001b[0m\n",
      "\n",
      "\n",
      "\u001b[1mSUMMARY\u001b[0m\n",
      "\n",
      "TOTAL: 8, \u001b[92mPASSED\u001b[0m: 8, \u001b[91mFAILED\u001b[0m: 0\n"
     ]
    },
    {
     "data": {
      "text/plain": [
       "[(7, True, 0.144),\n",
       " (5, True, 0.079),\n",
       " (3, True, 0.054),\n",
       " (0, True, 0.115),\n",
       " (5, True, 0.053),\n",
       " (0, True, 0.005),\n",
       " (0, True, 0.003),\n",
       " (3, True, 0.041)]"
      ]
     },
     "execution_count": 25,
     "metadata": {},
     "output_type": "execute_result"
    }
   ],
   "source": [
    "evaluate_test_cases(lcs_memon, lcq_tests)"
   ]
  },
  {
   "cell_type": "code",
   "execution_count": null,
   "id": "1cd02f36",
   "metadata": {
    "id": "1cd02f36"
   },
   "outputs": [],
   "source": []
  },
  {
   "cell_type": "code",
   "execution_count": null,
   "id": "8b0547ae",
   "metadata": {
    "id": "8b0547ae",
    "outputId": "e603e75c-1268-4cf9-eb4d-179a6b38fa79"
   },
   "outputs": [
    {
     "data": {
      "application/javascript": [
       "window.require && require([\"base/js/namespace\"],function(Jupyter){Jupyter.notebook.save_checkpoint()})"
      ],
      "text/plain": [
       "<IPython.core.display.Javascript object>"
      ]
     },
     "metadata": {},
     "output_type": "display_data"
    }
   ],
   "source": [
    "jovian.commit()"
   ]
  },
  {
   "cell_type": "markdown",
   "id": "21c89eb6",
   "metadata": {
    "id": "21c89eb6"
   },
   "source": [
    "### 6. Apply the right technique to overcome the inefficiency. Repeat steps 3 to 6."
   ]
  },
  {
   "cell_type": "code",
   "execution_count": null,
   "id": "7ccb7e14",
   "metadata": {
    "id": "7ccb7e14"
   },
   "outputs": [],
   "source": []
  },
  {
   "cell_type": "code",
   "execution_count": null,
   "id": "07b352f2",
   "metadata": {
    "id": "07b352f2"
   },
   "outputs": [],
   "source": []
  },
  {
   "cell_type": "code",
   "execution_count": 36,
   "id": "cd387997",
   "metadata": {
    "id": "cd387997",
    "outputId": "f6317337-ab1e-4782-a3aa-67437b36b08f"
   },
   "outputs": [
    {
     "data": {
      "application/javascript": [
       "window.require && require([\"base/js/namespace\"],function(Jupyter){Jupyter.notebook.save_checkpoint()})"
      ],
      "text/plain": [
       "<IPython.core.display.Javascript object>"
      ]
     },
     "metadata": {},
     "output_type": "display_data"
    },
    {
     "name": "stdout",
     "output_type": "stream",
     "text": [
      "[jovian] Updating notebook \"uttejkumar7991/longest-common-subsequence\" on https://jovian.ai\u001b[0m\n",
      "[jovian] Committed successfully! https://jovian.ai/uttejkumar7991/longest-common-subsequence\u001b[0m\n"
     ]
    },
    {
     "data": {
      "text/plain": [
       "'https://jovian.ai/uttejkumar7991/longest-common-subsequence'"
      ]
     },
     "execution_count": 36,
     "metadata": {},
     "output_type": "execute_result"
    }
   ],
   "source": [
    "jovian.commit()"
   ]
  },
  {
   "cell_type": "markdown",
   "id": "e0b47b8b",
   "metadata": {
    "id": "e0b47b8b"
   },
   "source": [
    "### 7. Come up with a correct solution for the problem. State it in plain English.\n",
    "\n",
    "Come with the optimized correct solution and explain it in simple words below:\n",
    "\n",
    "1. **???**\n",
    "2. **???**\n",
    "3. **???**\n",
    "4. **???**\n",
    "5. **???**\n",
    "\n",
    "(add more steps if required)\n",
    "\n",
    "\n",
    "Let's save and upload our work before continuing.\n",
    "\n"
   ]
  },
  {
   "cell_type": "code",
   "execution_count": null,
   "id": "12fcdcae",
   "metadata": {
    "id": "12fcdcae",
    "outputId": "d1b2c31c-589e-4e97-9e65-fc82961fd14e"
   },
   "outputs": [
    {
     "data": {
      "application/javascript": [
       "window.require && require([\"base/js/namespace\"],function(Jupyter){Jupyter.notebook.save_checkpoint()})"
      ],
      "text/plain": [
       "<IPython.core.display.Javascript object>"
      ]
     },
     "metadata": {},
     "output_type": "display_data"
    }
   ],
   "source": [
    "jovian.commit()"
   ]
  },
  {
   "cell_type": "code",
   "execution_count": null,
   "id": "5d9db8c1",
   "metadata": {
    "id": "5d9db8c1"
   },
   "outputs": [],
   "source": []
  },
  {
   "cell_type": "code",
   "execution_count": null,
   "id": "439ab8c7",
   "metadata": {
    "id": "439ab8c7"
   },
   "outputs": [],
   "source": []
  },
  {
   "cell_type": "code",
   "execution_count": null,
   "id": "b737303a",
   "metadata": {
    "id": "b737303a"
   },
   "outputs": [],
   "source": []
  },
  {
   "cell_type": "markdown",
   "id": "818459cf",
   "metadata": {
    "id": "818459cf"
   },
   "source": [
    "### 8. Implement the solution and test it using example inputs. Fix bugs, if any."
   ]
  },
  {
   "cell_type": "code",
   "execution_count": null,
   "id": "b7ca0ea2",
   "metadata": {
    "id": "b7ca0ea2"
   },
   "outputs": [],
   "source": []
  },
  {
   "cell_type": "code",
   "execution_count": null,
   "id": "c42d3a73",
   "metadata": {
    "id": "c42d3a73"
   },
   "outputs": [],
   "source": []
  },
  {
   "cell_type": "code",
   "execution_count": null,
   "id": "544bd76a",
   "metadata": {
    "id": "544bd76a"
   },
   "outputs": [],
   "source": []
  },
  {
   "cell_type": "code",
   "execution_count": null,
   "id": "9c7d01e9",
   "metadata": {
    "id": "9c7d01e9"
   },
   "outputs": [],
   "source": []
  },
  {
   "cell_type": "markdown",
   "id": "57d08477",
   "metadata": {
    "id": "57d08477"
   },
   "source": [
    "### 9. Analyze the algorithm's complexity and identify inefficiencies, if any."
   ]
  },
  {
   "cell_type": "code",
   "execution_count": null,
   "id": "cc0be3b5",
   "metadata": {
    "id": "cc0be3b5"
   },
   "outputs": [],
   "source": []
  },
  {
   "cell_type": "code",
   "execution_count": null,
   "id": "ce92d85e",
   "metadata": {
    "id": "ce92d85e"
   },
   "outputs": [],
   "source": []
  },
  {
   "cell_type": "code",
   "execution_count": null,
   "id": "e73bccfb",
   "metadata": {
    "id": "e73bccfb"
   },
   "outputs": [],
   "source": []
  },
  {
   "cell_type": "markdown",
   "id": "3bd518bf",
   "metadata": {
    "id": "3bd518bf"
   },
   "source": [
    "If you found the problem on an external platform, you can make a submission to test your solution.\n",
    "\n",
    "Share your approach and start a discussion on the Jovian forum: https://jovian.ai/forum/c/data-structures-and-algorithms-in-python/78"
   ]
  },
  {
   "cell_type": "code",
   "execution_count": null,
   "id": "b5c90fef",
   "metadata": {
    "id": "b5c90fef",
    "outputId": "9427fedd-f3f8-4a0c-fcae-0b6aec63bb2b"
   },
   "outputs": [
    {
     "data": {
      "application/javascript": [
       "window.require && require([\"base/js/namespace\"],function(Jupyter){Jupyter.notebook.save_checkpoint()})"
      ],
      "text/plain": [
       "<IPython.core.display.Javascript object>"
      ]
     },
     "metadata": {},
     "output_type": "display_data"
    },
    {
     "name": "stdout",
     "output_type": "stream",
     "text": [
      "[jovian] Attempting to save notebook..\u001b[0m\n"
     ]
    }
   ],
   "source": [
    "jovian.commit()"
   ]
  },
  {
   "cell_type": "code",
   "execution_count": null,
   "id": "3a5f194b",
   "metadata": {
    "id": "3a5f194b"
   },
   "outputs": [],
   "source": []
  }
 ],
 "metadata": {
  "colab": {
   "name": "python-problem-solving-template.ipynb",
   "provenance": []
  },
  "kernelspec": {
   "display_name": "Python 3 (ipykernel)",
   "language": "python",
   "name": "python3"
  },
  "language_info": {
   "codemirror_mode": {
    "name": "ipython",
    "version": 3
   },
   "file_extension": ".py",
   "mimetype": "text/x-python",
   "name": "python",
   "nbconvert_exporter": "python",
   "pygments_lexer": "ipython3",
   "version": "3.9.6"
  }
 },
 "nbformat": 4,
 "nbformat_minor": 5
}
